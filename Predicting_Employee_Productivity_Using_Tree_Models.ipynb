{
  "cells": [
    {
      "cell_type": "code",
      "execution_count": null,
      "metadata": {
        "id": "uydsgrzxcr2B"
      },
      "outputs": [],
      "source": [
        "import pandas as pd\n",
        "import seaborn as sns\n",
        "import matplotlib.pyplot as plt\n",
        "import numpy as np"
      ]
    },
    {
      "cell_type": "markdown",
      "metadata": {
        "id": "Q6MpTukecr2S"
      },
      "source": [
        "- **date**: ngày tháng trong định dạng MM-DD-YYYY.\n",
        "- **quarter**: phần của tháng — tháng được chia thành bốn quý.\n",
        "- **department**: phòng ban liên quan đến mỗi trường hợp.\n",
        "- **day**: ngày trong tuần.\n",
        "- **team**: số đội liên quan đến mỗi trường hợp.\n",
        "- **targeted_productivity**: năng suất mục tiêu được đặt bởi cơ quan cho từng đội vào mỗi ngày.\n",
        "- **smv**: giá trị phút tiêu chuẩn — thời gian được phân bổ cho một nhiệm vụ.\n",
        "- **wip**: công việc đang tiến hành — bao gồm số lượng sản phẩm chưa hoàn thành.\n",
        "- **over_time**: thời gian làm thêm của từng đội (tính bằng phút).\n",
        "- **incentive**: số tiền khuyến mãi tài chính (đơn vị BDT) để khuyến khích hành động cụ thể.\n",
        "- **idle_time**: thời gian sản xuất bị gián đoạn do nhiều nguyên nhân.\n",
        "- **idle_men**: số lượng công nhân bị rảnh do gián đoạn sản xuất.\n",
        "- **no_of_style_change**: số lần thay đổi kiểu dáng của một sản phẩm cụ thể.\n",
        "- **no_of_workers**: số lượng công nhân trong mỗi đội.\n",
        "- **actual_productivity**: tỷ lệ năng suất thực tế được đạt được bởi công nhân — nằm trong khoảng từ 0 đến 1. 🌟"
      ]
    },
    {
      "cell_type": "code",
      "execution_count": null,
      "metadata": {
        "id": "tUqYJpyHcr2V",
        "outputId": "304ef406-9c99-4885-dd01-2734f2568b58"
      },
      "outputs": [
        {
          "data": {
            "text/html": [
              "<div>\n",
              "<style scoped>\n",
              "    .dataframe tbody tr th:only-of-type {\n",
              "        vertical-align: middle;\n",
              "    }\n",
              "\n",
              "    .dataframe tbody tr th {\n",
              "        vertical-align: top;\n",
              "    }\n",
              "\n",
              "    .dataframe thead th {\n",
              "        text-align: right;\n",
              "    }\n",
              "</style>\n",
              "<table border=\"1\" class=\"dataframe\">\n",
              "  <thead>\n",
              "    <tr style=\"text-align: right;\">\n",
              "      <th></th>\n",
              "      <th>date</th>\n",
              "      <th>quarter</th>\n",
              "      <th>department</th>\n",
              "      <th>day</th>\n",
              "      <th>team</th>\n",
              "      <th>targeted_productivity</th>\n",
              "      <th>smv</th>\n",
              "      <th>wip</th>\n",
              "      <th>over_time</th>\n",
              "      <th>incentive</th>\n",
              "      <th>idle_time</th>\n",
              "      <th>idle_men</th>\n",
              "      <th>no_of_style_change</th>\n",
              "      <th>no_of_workers</th>\n",
              "      <th>actual_productivity</th>\n",
              "    </tr>\n",
              "  </thead>\n",
              "  <tbody>\n",
              "    <tr>\n",
              "      <th>0</th>\n",
              "      <td>1/1/2015</td>\n",
              "      <td>Quarter1</td>\n",
              "      <td>sweing</td>\n",
              "      <td>Thursday</td>\n",
              "      <td>8</td>\n",
              "      <td>0.80</td>\n",
              "      <td>26.16</td>\n",
              "      <td>1108.0</td>\n",
              "      <td>7080</td>\n",
              "      <td>98</td>\n",
              "      <td>0.0</td>\n",
              "      <td>0</td>\n",
              "      <td>0</td>\n",
              "      <td>59.0</td>\n",
              "      <td>0.940725</td>\n",
              "    </tr>\n",
              "    <tr>\n",
              "      <th>1</th>\n",
              "      <td>1/1/2015</td>\n",
              "      <td>Quarter1</td>\n",
              "      <td>finishing</td>\n",
              "      <td>Thursday</td>\n",
              "      <td>1</td>\n",
              "      <td>0.75</td>\n",
              "      <td>3.94</td>\n",
              "      <td>NaN</td>\n",
              "      <td>960</td>\n",
              "      <td>0</td>\n",
              "      <td>0.0</td>\n",
              "      <td>0</td>\n",
              "      <td>0</td>\n",
              "      <td>8.0</td>\n",
              "      <td>0.886500</td>\n",
              "    </tr>\n",
              "    <tr>\n",
              "      <th>2</th>\n",
              "      <td>1/1/2015</td>\n",
              "      <td>Quarter1</td>\n",
              "      <td>sweing</td>\n",
              "      <td>Thursday</td>\n",
              "      <td>11</td>\n",
              "      <td>0.80</td>\n",
              "      <td>11.41</td>\n",
              "      <td>968.0</td>\n",
              "      <td>3660</td>\n",
              "      <td>50</td>\n",
              "      <td>0.0</td>\n",
              "      <td>0</td>\n",
              "      <td>0</td>\n",
              "      <td>30.5</td>\n",
              "      <td>0.800570</td>\n",
              "    </tr>\n",
              "    <tr>\n",
              "      <th>3</th>\n",
              "      <td>1/1/2015</td>\n",
              "      <td>Quarter1</td>\n",
              "      <td>sweing</td>\n",
              "      <td>Thursday</td>\n",
              "      <td>12</td>\n",
              "      <td>0.80</td>\n",
              "      <td>11.41</td>\n",
              "      <td>968.0</td>\n",
              "      <td>3660</td>\n",
              "      <td>50</td>\n",
              "      <td>0.0</td>\n",
              "      <td>0</td>\n",
              "      <td>0</td>\n",
              "      <td>30.5</td>\n",
              "      <td>0.800570</td>\n",
              "    </tr>\n",
              "    <tr>\n",
              "      <th>4</th>\n",
              "      <td>1/1/2015</td>\n",
              "      <td>Quarter1</td>\n",
              "      <td>sweing</td>\n",
              "      <td>Thursday</td>\n",
              "      <td>6</td>\n",
              "      <td>0.80</td>\n",
              "      <td>25.90</td>\n",
              "      <td>1170.0</td>\n",
              "      <td>1920</td>\n",
              "      <td>50</td>\n",
              "      <td>0.0</td>\n",
              "      <td>0</td>\n",
              "      <td>0</td>\n",
              "      <td>56.0</td>\n",
              "      <td>0.800382</td>\n",
              "    </tr>\n",
              "    <tr>\n",
              "      <th>...</th>\n",
              "      <td>...</td>\n",
              "      <td>...</td>\n",
              "      <td>...</td>\n",
              "      <td>...</td>\n",
              "      <td>...</td>\n",
              "      <td>...</td>\n",
              "      <td>...</td>\n",
              "      <td>...</td>\n",
              "      <td>...</td>\n",
              "      <td>...</td>\n",
              "      <td>...</td>\n",
              "      <td>...</td>\n",
              "      <td>...</td>\n",
              "      <td>...</td>\n",
              "      <td>...</td>\n",
              "    </tr>\n",
              "    <tr>\n",
              "      <th>1192</th>\n",
              "      <td>3/11/2015</td>\n",
              "      <td>Quarter2</td>\n",
              "      <td>finishing</td>\n",
              "      <td>Wednesday</td>\n",
              "      <td>10</td>\n",
              "      <td>0.75</td>\n",
              "      <td>2.90</td>\n",
              "      <td>NaN</td>\n",
              "      <td>960</td>\n",
              "      <td>0</td>\n",
              "      <td>0.0</td>\n",
              "      <td>0</td>\n",
              "      <td>0</td>\n",
              "      <td>8.0</td>\n",
              "      <td>0.628333</td>\n",
              "    </tr>\n",
              "    <tr>\n",
              "      <th>1193</th>\n",
              "      <td>3/11/2015</td>\n",
              "      <td>Quarter2</td>\n",
              "      <td>finishing</td>\n",
              "      <td>Wednesday</td>\n",
              "      <td>8</td>\n",
              "      <td>0.70</td>\n",
              "      <td>3.90</td>\n",
              "      <td>NaN</td>\n",
              "      <td>960</td>\n",
              "      <td>0</td>\n",
              "      <td>0.0</td>\n",
              "      <td>0</td>\n",
              "      <td>0</td>\n",
              "      <td>8.0</td>\n",
              "      <td>0.625625</td>\n",
              "    </tr>\n",
              "    <tr>\n",
              "      <th>1194</th>\n",
              "      <td>3/11/2015</td>\n",
              "      <td>Quarter2</td>\n",
              "      <td>finishing</td>\n",
              "      <td>Wednesday</td>\n",
              "      <td>7</td>\n",
              "      <td>0.65</td>\n",
              "      <td>3.90</td>\n",
              "      <td>NaN</td>\n",
              "      <td>960</td>\n",
              "      <td>0</td>\n",
              "      <td>0.0</td>\n",
              "      <td>0</td>\n",
              "      <td>0</td>\n",
              "      <td>8.0</td>\n",
              "      <td>0.625625</td>\n",
              "    </tr>\n",
              "    <tr>\n",
              "      <th>1195</th>\n",
              "      <td>3/11/2015</td>\n",
              "      <td>Quarter2</td>\n",
              "      <td>finishing</td>\n",
              "      <td>Wednesday</td>\n",
              "      <td>9</td>\n",
              "      <td>0.75</td>\n",
              "      <td>2.90</td>\n",
              "      <td>NaN</td>\n",
              "      <td>1800</td>\n",
              "      <td>0</td>\n",
              "      <td>0.0</td>\n",
              "      <td>0</td>\n",
              "      <td>0</td>\n",
              "      <td>15.0</td>\n",
              "      <td>0.505889</td>\n",
              "    </tr>\n",
              "    <tr>\n",
              "      <th>1196</th>\n",
              "      <td>3/11/2015</td>\n",
              "      <td>Quarter2</td>\n",
              "      <td>finishing</td>\n",
              "      <td>Wednesday</td>\n",
              "      <td>6</td>\n",
              "      <td>0.70</td>\n",
              "      <td>2.90</td>\n",
              "      <td>NaN</td>\n",
              "      <td>720</td>\n",
              "      <td>0</td>\n",
              "      <td>0.0</td>\n",
              "      <td>0</td>\n",
              "      <td>0</td>\n",
              "      <td>6.0</td>\n",
              "      <td>0.394722</td>\n",
              "    </tr>\n",
              "  </tbody>\n",
              "</table>\n",
              "<p>1197 rows × 15 columns</p>\n",
              "</div>"
            ],
            "text/plain": [
              "           date   quarter  department        day  team  targeted_productivity  \\\n",
              "0      1/1/2015  Quarter1      sweing   Thursday     8                   0.80   \n",
              "1      1/1/2015  Quarter1  finishing    Thursday     1                   0.75   \n",
              "2      1/1/2015  Quarter1      sweing   Thursday    11                   0.80   \n",
              "3      1/1/2015  Quarter1      sweing   Thursday    12                   0.80   \n",
              "4      1/1/2015  Quarter1      sweing   Thursday     6                   0.80   \n",
              "...         ...       ...         ...        ...   ...                    ...   \n",
              "1192  3/11/2015  Quarter2   finishing  Wednesday    10                   0.75   \n",
              "1193  3/11/2015  Quarter2   finishing  Wednesday     8                   0.70   \n",
              "1194  3/11/2015  Quarter2   finishing  Wednesday     7                   0.65   \n",
              "1195  3/11/2015  Quarter2   finishing  Wednesday     9                   0.75   \n",
              "1196  3/11/2015  Quarter2   finishing  Wednesday     6                   0.70   \n",
              "\n",
              "        smv     wip  over_time  incentive  idle_time  idle_men  \\\n",
              "0     26.16  1108.0       7080         98        0.0         0   \n",
              "1      3.94     NaN        960          0        0.0         0   \n",
              "2     11.41   968.0       3660         50        0.0         0   \n",
              "3     11.41   968.0       3660         50        0.0         0   \n",
              "4     25.90  1170.0       1920         50        0.0         0   \n",
              "...     ...     ...        ...        ...        ...       ...   \n",
              "1192   2.90     NaN        960          0        0.0         0   \n",
              "1193   3.90     NaN        960          0        0.0         0   \n",
              "1194   3.90     NaN        960          0        0.0         0   \n",
              "1195   2.90     NaN       1800          0        0.0         0   \n",
              "1196   2.90     NaN        720          0        0.0         0   \n",
              "\n",
              "      no_of_style_change  no_of_workers  actual_productivity  \n",
              "0                      0           59.0             0.940725  \n",
              "1                      0            8.0             0.886500  \n",
              "2                      0           30.5             0.800570  \n",
              "3                      0           30.5             0.800570  \n",
              "4                      0           56.0             0.800382  \n",
              "...                  ...            ...                  ...  \n",
              "1192                   0            8.0             0.628333  \n",
              "1193                   0            8.0             0.625625  \n",
              "1194                   0            8.0             0.625625  \n",
              "1195                   0           15.0             0.505889  \n",
              "1196                   0            6.0             0.394722  \n",
              "\n",
              "[1197 rows x 15 columns]"
            ]
          },
          "execution_count": 2,
          "metadata": {},
          "output_type": "execute_result"
        }
      ],
      "source": [
        "df = pd.read_csv(\"garments_worker_productivity.csv\")\n",
        "df"
      ]
    },
    {
      "cell_type": "markdown",
      "metadata": {
        "tags": [],
        "id": "G3jIYI2Gcr2X"
      },
      "source": [
        "# Dataset Exploration"
      ]
    },
    {
      "cell_type": "code",
      "execution_count": null,
      "metadata": {
        "id": "9KhFJBYzcr2X",
        "outputId": "bc4a1006-1659-4909-c0d7-67016fdc17a8"
      },
      "outputs": [
        {
          "name": "stdout",
          "output_type": "stream",
          "text": [
            "<class 'pandas.core.frame.DataFrame'>\n",
            "RangeIndex: 1197 entries, 0 to 1196\n",
            "Data columns (total 15 columns):\n",
            " #   Column                 Non-Null Count  Dtype  \n",
            "---  ------                 --------------  -----  \n",
            " 0   date                   1197 non-null   object \n",
            " 1   quarter                1197 non-null   object \n",
            " 2   department             1197 non-null   object \n",
            " 3   day                    1197 non-null   object \n",
            " 4   team                   1197 non-null   int64  \n",
            " 5   targeted_productivity  1197 non-null   float64\n",
            " 6   smv                    1197 non-null   float64\n",
            " 7   wip                    691 non-null    float64\n",
            " 8   over_time              1197 non-null   int64  \n",
            " 9   incentive              1197 non-null   int64  \n",
            " 10  idle_time              1197 non-null   float64\n",
            " 11  idle_men               1197 non-null   int64  \n",
            " 12  no_of_style_change     1197 non-null   int64  \n",
            " 13  no_of_workers          1197 non-null   float64\n",
            " 14  actual_productivity    1197 non-null   float64\n",
            "dtypes: float64(6), int64(5), object(4)\n",
            "memory usage: 140.4+ KB\n"
          ]
        }
      ],
      "source": [
        "df.info()"
      ]
    },
    {
      "cell_type": "code",
      "execution_count": null,
      "metadata": {
        "id": "jdS_uolscr2Y",
        "outputId": "80fa5fc7-b7a4-4077-f83b-2fc15d74eca8"
      },
      "outputs": [
        {
          "data": {
            "text/plain": [
              "date                       0\n",
              "quarter                    0\n",
              "department                 0\n",
              "day                        0\n",
              "team                       0\n",
              "targeted_productivity      0\n",
              "smv                        0\n",
              "wip                      506\n",
              "over_time                  0\n",
              "incentive                  0\n",
              "idle_time                  0\n",
              "idle_men                   0\n",
              "no_of_style_change         0\n",
              "no_of_workers              0\n",
              "actual_productivity        0\n",
              "dtype: int64"
            ]
          },
          "execution_count": 4,
          "metadata": {},
          "output_type": "execute_result"
        }
      ],
      "source": [
        "df.isna().sum()"
      ]
    },
    {
      "cell_type": "code",
      "execution_count": null,
      "metadata": {
        "id": "r3jIjyjycr2Y",
        "outputId": "640430f0-417b-45a9-9f8f-cfae62c05cf1"
      },
      "outputs": [
        {
          "data": {
            "text/plain": [
              "Quarter1    360\n",
              "Quarter2    335\n",
              "Quarter4    248\n",
              "Quarter3    210\n",
              "Quarter5     44\n",
              "Name: quarter, dtype: int64"
            ]
          },
          "execution_count": 5,
          "metadata": {},
          "output_type": "execute_result"
        }
      ],
      "source": [
        "df[\"quarter\"].value_counts()"
      ]
    },
    {
      "cell_type": "code",
      "execution_count": null,
      "metadata": {
        "id": "i4k32znccr2Z",
        "outputId": "53053392-36fd-4298-917c-827221f11d8d"
      },
      "outputs": [
        {
          "data": {
            "text/plain": [
              "sweing        691\n",
              "finishing     257\n",
              "finishing     249\n",
              "Name: department, dtype: int64"
            ]
          },
          "execution_count": 6,
          "metadata": {},
          "output_type": "execute_result"
        }
      ],
      "source": [
        "df[\"department\"].value_counts()"
      ]
    },
    {
      "cell_type": "markdown",
      "metadata": {
        "id": "cig75cWocr2Z"
      },
      "source": [
        "=> Có 2 finishing"
      ]
    },
    {
      "cell_type": "code",
      "execution_count": null,
      "metadata": {
        "id": "MBeLa033cr2a",
        "outputId": "3dc2519d-4f11-45df-ad56-af503d7e7a27"
      },
      "outputs": [
        {
          "data": {
            "text/plain": [
              "Wednesday    208\n",
              "Sunday       203\n",
              "Tuesday      201\n",
              "Thursday     199\n",
              "Monday       199\n",
              "Saturday     187\n",
              "Name: day, dtype: int64"
            ]
          },
          "execution_count": 7,
          "metadata": {},
          "output_type": "execute_result"
        }
      ],
      "source": [
        "df[\"day\"].value_counts()"
      ]
    },
    {
      "cell_type": "markdown",
      "metadata": {
        "id": "8ei7SSmBcr2a"
      },
      "source": [
        "=> không có ngày thứ 6. Có thể nhà máy không hoạt động vào ngày thứ 6, hoặc có thể do lỗi thu thập dữ liệu"
      ]
    },
    {
      "cell_type": "code",
      "execution_count": null,
      "metadata": {
        "id": "FI-hsBoNcr2b",
        "outputId": "611ef7b5-ad33-47ff-c3f1-33833347eac3"
      },
      "outputs": [
        {
          "data": {
            "text/html": [
              "<div>\n",
              "<style scoped>\n",
              "    .dataframe tbody tr th:only-of-type {\n",
              "        vertical-align: middle;\n",
              "    }\n",
              "\n",
              "    .dataframe tbody tr th {\n",
              "        vertical-align: top;\n",
              "    }\n",
              "\n",
              "    .dataframe thead th {\n",
              "        text-align: right;\n",
              "    }\n",
              "</style>\n",
              "<table border=\"1\" class=\"dataframe\">\n",
              "  <thead>\n",
              "    <tr style=\"text-align: right;\">\n",
              "      <th></th>\n",
              "      <th>date</th>\n",
              "      <th>quarter</th>\n",
              "      <th>department</th>\n",
              "      <th>day</th>\n",
              "      <th>team</th>\n",
              "      <th>targeted_productivity</th>\n",
              "      <th>smv</th>\n",
              "      <th>wip</th>\n",
              "      <th>over_time</th>\n",
              "      <th>incentive</th>\n",
              "      <th>idle_time</th>\n",
              "      <th>idle_men</th>\n",
              "      <th>no_of_style_change</th>\n",
              "      <th>no_of_workers</th>\n",
              "      <th>actual_productivity</th>\n",
              "    </tr>\n",
              "  </thead>\n",
              "  <tbody>\n",
              "    <tr>\n",
              "      <th>11</th>\n",
              "      <td>1/1/2015</td>\n",
              "      <td>Quarter1</td>\n",
              "      <td>sweing</td>\n",
              "      <td>Thursday</td>\n",
              "      <td>10</td>\n",
              "      <td>0.75</td>\n",
              "      <td>19.31</td>\n",
              "      <td>578.0</td>\n",
              "      <td>6480</td>\n",
              "      <td>45</td>\n",
              "      <td>0.0</td>\n",
              "      <td>0</td>\n",
              "      <td>0</td>\n",
              "      <td>54.0</td>\n",
              "      <td>0.712205</td>\n",
              "    </tr>\n",
              "    <tr>\n",
              "      <th>12</th>\n",
              "      <td>1/1/2015</td>\n",
              "      <td>Quarter1</td>\n",
              "      <td>sweing</td>\n",
              "      <td>Thursday</td>\n",
              "      <td>5</td>\n",
              "      <td>0.80</td>\n",
              "      <td>11.41</td>\n",
              "      <td>668.0</td>\n",
              "      <td>3660</td>\n",
              "      <td>50</td>\n",
              "      <td>0.0</td>\n",
              "      <td>0</td>\n",
              "      <td>0</td>\n",
              "      <td>30.5</td>\n",
              "      <td>0.707046</td>\n",
              "    </tr>\n",
              "    <tr>\n",
              "      <th>14</th>\n",
              "      <td>1/1/2015</td>\n",
              "      <td>Quarter1</td>\n",
              "      <td>finishing</td>\n",
              "      <td>Thursday</td>\n",
              "      <td>8</td>\n",
              "      <td>0.75</td>\n",
              "      <td>2.90</td>\n",
              "      <td>NaN</td>\n",
              "      <td>960</td>\n",
              "      <td>0</td>\n",
              "      <td>0.0</td>\n",
              "      <td>0</td>\n",
              "      <td>0</td>\n",
              "      <td>8.0</td>\n",
              "      <td>0.676667</td>\n",
              "    </tr>\n",
              "    <tr>\n",
              "      <th>15</th>\n",
              "      <td>1/1/2015</td>\n",
              "      <td>Quarter1</td>\n",
              "      <td>finishing</td>\n",
              "      <td>Thursday</td>\n",
              "      <td>4</td>\n",
              "      <td>0.75</td>\n",
              "      <td>3.94</td>\n",
              "      <td>NaN</td>\n",
              "      <td>2160</td>\n",
              "      <td>0</td>\n",
              "      <td>0.0</td>\n",
              "      <td>0</td>\n",
              "      <td>0</td>\n",
              "      <td>18.0</td>\n",
              "      <td>0.593056</td>\n",
              "    </tr>\n",
              "    <tr>\n",
              "      <th>16</th>\n",
              "      <td>1/1/2015</td>\n",
              "      <td>Quarter1</td>\n",
              "      <td>finishing</td>\n",
              "      <td>Thursday</td>\n",
              "      <td>7</td>\n",
              "      <td>0.80</td>\n",
              "      <td>2.90</td>\n",
              "      <td>NaN</td>\n",
              "      <td>960</td>\n",
              "      <td>0</td>\n",
              "      <td>0.0</td>\n",
              "      <td>0</td>\n",
              "      <td>0</td>\n",
              "      <td>8.0</td>\n",
              "      <td>0.540729</td>\n",
              "    </tr>\n",
              "    <tr>\n",
              "      <th>...</th>\n",
              "      <td>...</td>\n",
              "      <td>...</td>\n",
              "      <td>...</td>\n",
              "      <td>...</td>\n",
              "      <td>...</td>\n",
              "      <td>...</td>\n",
              "      <td>...</td>\n",
              "      <td>...</td>\n",
              "      <td>...</td>\n",
              "      <td>...</td>\n",
              "      <td>...</td>\n",
              "      <td>...</td>\n",
              "      <td>...</td>\n",
              "      <td>...</td>\n",
              "      <td>...</td>\n",
              "    </tr>\n",
              "    <tr>\n",
              "      <th>1192</th>\n",
              "      <td>3/11/2015</td>\n",
              "      <td>Quarter2</td>\n",
              "      <td>finishing</td>\n",
              "      <td>Wednesday</td>\n",
              "      <td>10</td>\n",
              "      <td>0.75</td>\n",
              "      <td>2.90</td>\n",
              "      <td>NaN</td>\n",
              "      <td>960</td>\n",
              "      <td>0</td>\n",
              "      <td>0.0</td>\n",
              "      <td>0</td>\n",
              "      <td>0</td>\n",
              "      <td>8.0</td>\n",
              "      <td>0.628333</td>\n",
              "    </tr>\n",
              "    <tr>\n",
              "      <th>1193</th>\n",
              "      <td>3/11/2015</td>\n",
              "      <td>Quarter2</td>\n",
              "      <td>finishing</td>\n",
              "      <td>Wednesday</td>\n",
              "      <td>8</td>\n",
              "      <td>0.70</td>\n",
              "      <td>3.90</td>\n",
              "      <td>NaN</td>\n",
              "      <td>960</td>\n",
              "      <td>0</td>\n",
              "      <td>0.0</td>\n",
              "      <td>0</td>\n",
              "      <td>0</td>\n",
              "      <td>8.0</td>\n",
              "      <td>0.625625</td>\n",
              "    </tr>\n",
              "    <tr>\n",
              "      <th>1194</th>\n",
              "      <td>3/11/2015</td>\n",
              "      <td>Quarter2</td>\n",
              "      <td>finishing</td>\n",
              "      <td>Wednesday</td>\n",
              "      <td>7</td>\n",
              "      <td>0.65</td>\n",
              "      <td>3.90</td>\n",
              "      <td>NaN</td>\n",
              "      <td>960</td>\n",
              "      <td>0</td>\n",
              "      <td>0.0</td>\n",
              "      <td>0</td>\n",
              "      <td>0</td>\n",
              "      <td>8.0</td>\n",
              "      <td>0.625625</td>\n",
              "    </tr>\n",
              "    <tr>\n",
              "      <th>1195</th>\n",
              "      <td>3/11/2015</td>\n",
              "      <td>Quarter2</td>\n",
              "      <td>finishing</td>\n",
              "      <td>Wednesday</td>\n",
              "      <td>9</td>\n",
              "      <td>0.75</td>\n",
              "      <td>2.90</td>\n",
              "      <td>NaN</td>\n",
              "      <td>1800</td>\n",
              "      <td>0</td>\n",
              "      <td>0.0</td>\n",
              "      <td>0</td>\n",
              "      <td>0</td>\n",
              "      <td>15.0</td>\n",
              "      <td>0.505889</td>\n",
              "    </tr>\n",
              "    <tr>\n",
              "      <th>1196</th>\n",
              "      <td>3/11/2015</td>\n",
              "      <td>Quarter2</td>\n",
              "      <td>finishing</td>\n",
              "      <td>Wednesday</td>\n",
              "      <td>6</td>\n",
              "      <td>0.70</td>\n",
              "      <td>2.90</td>\n",
              "      <td>NaN</td>\n",
              "      <td>720</td>\n",
              "      <td>0</td>\n",
              "      <td>0.0</td>\n",
              "      <td>0</td>\n",
              "      <td>0</td>\n",
              "      <td>6.0</td>\n",
              "      <td>0.394722</td>\n",
              "    </tr>\n",
              "  </tbody>\n",
              "</table>\n",
              "<p>322 rows × 15 columns</p>\n",
              "</div>"
            ],
            "text/plain": [
              "           date   quarter  department        day  team  targeted_productivity  \\\n",
              "11     1/1/2015  Quarter1      sweing   Thursday    10                   0.75   \n",
              "12     1/1/2015  Quarter1      sweing   Thursday     5                   0.80   \n",
              "14     1/1/2015  Quarter1  finishing    Thursday     8                   0.75   \n",
              "15     1/1/2015  Quarter1  finishing    Thursday     4                   0.75   \n",
              "16     1/1/2015  Quarter1  finishing    Thursday     7                   0.80   \n",
              "...         ...       ...         ...        ...   ...                    ...   \n",
              "1192  3/11/2015  Quarter2   finishing  Wednesday    10                   0.75   \n",
              "1193  3/11/2015  Quarter2   finishing  Wednesday     8                   0.70   \n",
              "1194  3/11/2015  Quarter2   finishing  Wednesday     7                   0.65   \n",
              "1195  3/11/2015  Quarter2   finishing  Wednesday     9                   0.75   \n",
              "1196  3/11/2015  Quarter2   finishing  Wednesday     6                   0.70   \n",
              "\n",
              "        smv    wip  over_time  incentive  idle_time  idle_men  \\\n",
              "11    19.31  578.0       6480         45        0.0         0   \n",
              "12    11.41  668.0       3660         50        0.0         0   \n",
              "14     2.90    NaN        960          0        0.0         0   \n",
              "15     3.94    NaN       2160          0        0.0         0   \n",
              "16     2.90    NaN        960          0        0.0         0   \n",
              "...     ...    ...        ...        ...        ...       ...   \n",
              "1192   2.90    NaN        960          0        0.0         0   \n",
              "1193   3.90    NaN        960          0        0.0         0   \n",
              "1194   3.90    NaN        960          0        0.0         0   \n",
              "1195   2.90    NaN       1800          0        0.0         0   \n",
              "1196   2.90    NaN        720          0        0.0         0   \n",
              "\n",
              "      no_of_style_change  no_of_workers  actual_productivity  \n",
              "11                     0           54.0             0.712205  \n",
              "12                     0           30.5             0.707046  \n",
              "14                     0            8.0             0.676667  \n",
              "15                     0           18.0             0.593056  \n",
              "16                     0            8.0             0.540729  \n",
              "...                  ...            ...                  ...  \n",
              "1192                   0            8.0             0.628333  \n",
              "1193                   0            8.0             0.625625  \n",
              "1194                   0            8.0             0.625625  \n",
              "1195                   0           15.0             0.505889  \n",
              "1196                   0            6.0             0.394722  \n",
              "\n",
              "[322 rows x 15 columns]"
            ]
          },
          "execution_count": 8,
          "metadata": {},
          "output_type": "execute_result"
        }
      ],
      "source": [
        "df[df[\"targeted_productivity\"] > df[\"actual_productivity\"]]"
      ]
    },
    {
      "cell_type": "code",
      "execution_count": null,
      "metadata": {
        "id": "6kH4nf11cr2c",
        "outputId": "4fd27fb2-0f48-465a-cf15-09df4946d7c2"
      },
      "outputs": [
        {
          "data": {
            "text/plain": [
              "26.900584795321635"
            ]
          },
          "execution_count": 9,
          "metadata": {},
          "output_type": "execute_result"
        }
      ],
      "source": [
        "(len(df[df[\"targeted_productivity\"] > df[\"actual_productivity\"]]) / len(df)) * 100"
      ]
    },
    {
      "cell_type": "markdown",
      "metadata": {
        "id": "CJxnqNlCcr2c"
      },
      "source": [
        "=> Có 26% quan sát cho thấy năng suất bình thường không đạt ngưỡng năng suất mục tiêu đề ra"
      ]
    },
    {
      "cell_type": "code",
      "execution_count": null,
      "metadata": {
        "id": "tmbeEXs1cr2c",
        "outputId": "07db7f61-5cfd-408e-e8bc-a12650e02569"
      },
      "outputs": [
        {
          "data": {
            "text/plain": [
              "0.5012531328320802"
            ]
          },
          "execution_count": 10,
          "metadata": {},
          "output_type": "execute_result"
        }
      ],
      "source": [
        "(len(df[df[\"targeted_productivity\"] == df[\"actual_productivity\"]]) / len(df)) * 100"
      ]
    },
    {
      "cell_type": "markdown",
      "metadata": {
        "id": "4ntgF5B0cr2d"
      },
      "source": [
        "=> Có chưa tới 1% là năng suất bình thường bẵng ngưỡng năng suất đề ra"
      ]
    },
    {
      "cell_type": "code",
      "execution_count": null,
      "metadata": {
        "id": "_WxxDCcLcr2d",
        "outputId": "e8dff2c0-d918-4933-d747-f25cc452ee5c"
      },
      "outputs": [
        {
          "data": {
            "text/plain": [
              "72.59816207184629"
            ]
          },
          "execution_count": 11,
          "metadata": {},
          "output_type": "execute_result"
        }
      ],
      "source": [
        "(len(df[df[\"targeted_productivity\"] < df[\"actual_productivity\"]]) / len(df)) * 100"
      ]
    },
    {
      "cell_type": "markdown",
      "metadata": {
        "id": "CXQ-v7f8cr2e"
      },
      "source": [
        "=> 72% quan sát cho thấy năng suất công nhân nhà máy vượt ngưỡng mục tiêu đề ra. Một điều cho thấy nhà máy hoạt động rất tốt"
      ]
    },
    {
      "cell_type": "markdown",
      "metadata": {
        "id": "6jLBC1y2cr2e"
      },
      "source": [
        "# Dataset Cleaning (I)"
      ]
    },
    {
      "cell_type": "code",
      "execution_count": null,
      "metadata": {
        "id": "dChat7l-cr2e",
        "outputId": "71058b3b-d58f-4ace-ba78-809739ced686"
      },
      "outputs": [
        {
          "data": {
            "text/plain": [
              "array(['sweing', 'finishing ', 'finishing'], dtype=object)"
            ]
          },
          "execution_count": 12,
          "metadata": {},
          "output_type": "execute_result"
        }
      ],
      "source": [
        "df[\"department\"].unique()"
      ]
    },
    {
      "cell_type": "code",
      "execution_count": null,
      "metadata": {
        "id": "mU9qp1jmcr2f"
      },
      "outputs": [],
      "source": [
        "df[\"department\"].replace({\"finishing \": \"finishing\"}, inplace = True)"
      ]
    },
    {
      "cell_type": "code",
      "execution_count": null,
      "metadata": {
        "id": "LfwBzWJgcr2f"
      },
      "outputs": [],
      "source": [
        "df.drop([\"date\", \"no_of_style_change\", \"incentive\",\n",
        "         \"idle_time\", \"idle_men\", \"wip\"], axis = 1, inplace = True)"
      ]
    },
    {
      "cell_type": "markdown",
      "metadata": {
        "id": "dDDH2hVHcr2g"
      },
      "source": [
        "- Cột date chỉ có từ tháng 1 đến tháng 3. Nên cột không có tác dụng.\n",
        "- no_of_style_change (sự thay đổi trong sản phẩm): trong dữ liệu nhà máy may mặc, mọi thứ đều sản xuất theo dây chuyền, không phải bằng tay thủ công, rất khó để có thay đổi trong sản phầm.\n",
        "- incentive (khuyến mãi cho công nhân): điều này không có tác động quá lớn cho công nhân, ngoại từ các đãi ngộ nghỉ lễ."
      ]
    },
    {
      "cell_type": "code",
      "execution_count": null,
      "metadata": {
        "id": "lFFDMAbKcr2g"
      },
      "outputs": [],
      "source": [
        "df[\"no_of_workers\"] = df[\"no_of_workers\"].astype(\"int\")"
      ]
    },
    {
      "cell_type": "markdown",
      "metadata": {
        "id": "12SN-DgMcr2g"
      },
      "source": [
        "=>  Cột công nhân, không thể nào nói 1.2 công nhân được."
      ]
    },
    {
      "cell_type": "code",
      "execution_count": null,
      "metadata": {
        "id": "dTifp5Wtcr2g"
      },
      "outputs": [],
      "source": [
        "df[\"productive\"] = df[\"actual_productivity\"] >= df[\"targeted_productivity\"]"
      ]
    },
    {
      "cell_type": "markdown",
      "metadata": {
        "id": "WibX0iP7cr2h"
      },
      "source": [
        "=> Tạo ra một cột mới có tên là “productive”. Cột này sẽ chứa các giá trị boolean, cho biết liệu mục tiêu về năng suất đã được đạt được cho mỗi quan sát trong tập dữ liệu hay không."
      ]
    },
    {
      "cell_type": "code",
      "execution_count": null,
      "metadata": {
        "id": "_YA3RH32cr2h",
        "outputId": "4ba7fe3b-8961-4cad-d71b-3140862e4135"
      },
      "outputs": [
        {
          "data": {
            "text/plain": [
              "Quarter1    360\n",
              "Quarter2    335\n",
              "Quarter4    248\n",
              "Quarter3    210\n",
              "Quarter5     44\n",
              "Name: quarter, dtype: int64"
            ]
          },
          "execution_count": 17,
          "metadata": {},
          "output_type": "execute_result"
        }
      ],
      "source": [
        "df[\"quarter\"].value_counts()"
      ]
    },
    {
      "cell_type": "markdown",
      "metadata": {
        "id": "BhC1l16Bcr2h"
      },
      "source": [
        "=> Vì quarter5 quá thấp, nên ta gộp nó vào trong quarter4"
      ]
    },
    {
      "cell_type": "code",
      "execution_count": null,
      "metadata": {
        "id": "2LqicOvUcr2h"
      },
      "outputs": [],
      "source": [
        "df[\"quarter\"] = df[\"quarter\"].str.replace(\"Quarter5\", \"Quarter4\")"
      ]
    },
    {
      "cell_type": "code",
      "execution_count": null,
      "metadata": {
        "id": "Wyc1kQ2Acr2i",
        "outputId": "7129d7e6-426d-4b81-9a24-1b7eaa432604"
      },
      "outputs": [
        {
          "data": {
            "text/plain": [
              "Quarter1    360\n",
              "Quarter2    335\n",
              "Quarter4    292\n",
              "Quarter3    210\n",
              "Name: quarter, dtype: int64"
            ]
          },
          "execution_count": 19,
          "metadata": {},
          "output_type": "execute_result"
        }
      ],
      "source": [
        "df[\"quarter\"].value_counts()"
      ]
    },
    {
      "cell_type": "markdown",
      "metadata": {
        "id": "-2RTGcD1cr2j"
      },
      "source": [
        "# Dataset Cleaning (II)"
      ]
    },
    {
      "cell_type": "code",
      "execution_count": null,
      "metadata": {
        "id": "7G7RncLOcr2j",
        "outputId": "ba617f19-1985-4b68-e17d-8e375d6feb67"
      },
      "outputs": [
        {
          "data": {
            "text/html": [
              "<div>\n",
              "<style scoped>\n",
              "    .dataframe tbody tr th:only-of-type {\n",
              "        vertical-align: middle;\n",
              "    }\n",
              "\n",
              "    .dataframe tbody tr th {\n",
              "        vertical-align: top;\n",
              "    }\n",
              "\n",
              "    .dataframe thead th {\n",
              "        text-align: right;\n",
              "    }\n",
              "</style>\n",
              "<table border=\"1\" class=\"dataframe\">\n",
              "  <thead>\n",
              "    <tr style=\"text-align: right;\">\n",
              "      <th></th>\n",
              "      <th>department_finishing</th>\n",
              "      <th>department_sweing</th>\n",
              "      <th>quarter_Quarter1</th>\n",
              "      <th>quarter_Quarter2</th>\n",
              "      <th>quarter_Quarter3</th>\n",
              "      <th>quarter_Quarter4</th>\n",
              "      <th>day_Monday</th>\n",
              "      <th>day_Saturday</th>\n",
              "      <th>day_Sunday</th>\n",
              "      <th>day_Thursday</th>\n",
              "      <th>...</th>\n",
              "      <th>team_9</th>\n",
              "      <th>team_10</th>\n",
              "      <th>team_11</th>\n",
              "      <th>team_12</th>\n",
              "      <th>targeted_productivity</th>\n",
              "      <th>smv</th>\n",
              "      <th>over_time</th>\n",
              "      <th>no_of_workers</th>\n",
              "      <th>actual_productivity</th>\n",
              "      <th>productive</th>\n",
              "    </tr>\n",
              "  </thead>\n",
              "  <tbody>\n",
              "    <tr>\n",
              "      <th>0</th>\n",
              "      <td>0.0</td>\n",
              "      <td>1.0</td>\n",
              "      <td>1.0</td>\n",
              "      <td>0.0</td>\n",
              "      <td>0.0</td>\n",
              "      <td>0.0</td>\n",
              "      <td>0.0</td>\n",
              "      <td>0.0</td>\n",
              "      <td>0.0</td>\n",
              "      <td>1.0</td>\n",
              "      <td>...</td>\n",
              "      <td>0.0</td>\n",
              "      <td>0.0</td>\n",
              "      <td>0.0</td>\n",
              "      <td>0.0</td>\n",
              "      <td>0.8</td>\n",
              "      <td>26.16</td>\n",
              "      <td>7080</td>\n",
              "      <td>59</td>\n",
              "      <td>0.940725</td>\n",
              "      <td>True</td>\n",
              "    </tr>\n",
              "    <tr>\n",
              "      <th>1</th>\n",
              "      <td>1.0</td>\n",
              "      <td>0.0</td>\n",
              "      <td>1.0</td>\n",
              "      <td>0.0</td>\n",
              "      <td>0.0</td>\n",
              "      <td>0.0</td>\n",
              "      <td>0.0</td>\n",
              "      <td>0.0</td>\n",
              "      <td>0.0</td>\n",
              "      <td>1.0</td>\n",
              "      <td>...</td>\n",
              "      <td>0.0</td>\n",
              "      <td>0.0</td>\n",
              "      <td>0.0</td>\n",
              "      <td>0.0</td>\n",
              "      <td>0.75</td>\n",
              "      <td>3.94</td>\n",
              "      <td>960</td>\n",
              "      <td>8</td>\n",
              "      <td>0.8865</td>\n",
              "      <td>True</td>\n",
              "    </tr>\n",
              "    <tr>\n",
              "      <th>2</th>\n",
              "      <td>0.0</td>\n",
              "      <td>1.0</td>\n",
              "      <td>1.0</td>\n",
              "      <td>0.0</td>\n",
              "      <td>0.0</td>\n",
              "      <td>0.0</td>\n",
              "      <td>0.0</td>\n",
              "      <td>0.0</td>\n",
              "      <td>0.0</td>\n",
              "      <td>1.0</td>\n",
              "      <td>...</td>\n",
              "      <td>0.0</td>\n",
              "      <td>0.0</td>\n",
              "      <td>1.0</td>\n",
              "      <td>0.0</td>\n",
              "      <td>0.8</td>\n",
              "      <td>11.41</td>\n",
              "      <td>3660</td>\n",
              "      <td>30</td>\n",
              "      <td>0.80057</td>\n",
              "      <td>True</td>\n",
              "    </tr>\n",
              "    <tr>\n",
              "      <th>3</th>\n",
              "      <td>0.0</td>\n",
              "      <td>1.0</td>\n",
              "      <td>1.0</td>\n",
              "      <td>0.0</td>\n",
              "      <td>0.0</td>\n",
              "      <td>0.0</td>\n",
              "      <td>0.0</td>\n",
              "      <td>0.0</td>\n",
              "      <td>0.0</td>\n",
              "      <td>1.0</td>\n",
              "      <td>...</td>\n",
              "      <td>0.0</td>\n",
              "      <td>0.0</td>\n",
              "      <td>0.0</td>\n",
              "      <td>1.0</td>\n",
              "      <td>0.8</td>\n",
              "      <td>11.41</td>\n",
              "      <td>3660</td>\n",
              "      <td>30</td>\n",
              "      <td>0.80057</td>\n",
              "      <td>True</td>\n",
              "    </tr>\n",
              "    <tr>\n",
              "      <th>4</th>\n",
              "      <td>0.0</td>\n",
              "      <td>1.0</td>\n",
              "      <td>1.0</td>\n",
              "      <td>0.0</td>\n",
              "      <td>0.0</td>\n",
              "      <td>0.0</td>\n",
              "      <td>0.0</td>\n",
              "      <td>0.0</td>\n",
              "      <td>0.0</td>\n",
              "      <td>1.0</td>\n",
              "      <td>...</td>\n",
              "      <td>0.0</td>\n",
              "      <td>0.0</td>\n",
              "      <td>0.0</td>\n",
              "      <td>0.0</td>\n",
              "      <td>0.8</td>\n",
              "      <td>25.9</td>\n",
              "      <td>1920</td>\n",
              "      <td>56</td>\n",
              "      <td>0.800382</td>\n",
              "      <td>True</td>\n",
              "    </tr>\n",
              "    <tr>\n",
              "      <th>...</th>\n",
              "      <td>...</td>\n",
              "      <td>...</td>\n",
              "      <td>...</td>\n",
              "      <td>...</td>\n",
              "      <td>...</td>\n",
              "      <td>...</td>\n",
              "      <td>...</td>\n",
              "      <td>...</td>\n",
              "      <td>...</td>\n",
              "      <td>...</td>\n",
              "      <td>...</td>\n",
              "      <td>...</td>\n",
              "      <td>...</td>\n",
              "      <td>...</td>\n",
              "      <td>...</td>\n",
              "      <td>...</td>\n",
              "      <td>...</td>\n",
              "      <td>...</td>\n",
              "      <td>...</td>\n",
              "      <td>...</td>\n",
              "      <td>...</td>\n",
              "    </tr>\n",
              "    <tr>\n",
              "      <th>1192</th>\n",
              "      <td>1.0</td>\n",
              "      <td>0.0</td>\n",
              "      <td>0.0</td>\n",
              "      <td>1.0</td>\n",
              "      <td>0.0</td>\n",
              "      <td>0.0</td>\n",
              "      <td>0.0</td>\n",
              "      <td>0.0</td>\n",
              "      <td>0.0</td>\n",
              "      <td>0.0</td>\n",
              "      <td>...</td>\n",
              "      <td>0.0</td>\n",
              "      <td>1.0</td>\n",
              "      <td>0.0</td>\n",
              "      <td>0.0</td>\n",
              "      <td>0.75</td>\n",
              "      <td>2.9</td>\n",
              "      <td>960</td>\n",
              "      <td>8</td>\n",
              "      <td>0.628333</td>\n",
              "      <td>False</td>\n",
              "    </tr>\n",
              "    <tr>\n",
              "      <th>1193</th>\n",
              "      <td>1.0</td>\n",
              "      <td>0.0</td>\n",
              "      <td>0.0</td>\n",
              "      <td>1.0</td>\n",
              "      <td>0.0</td>\n",
              "      <td>0.0</td>\n",
              "      <td>0.0</td>\n",
              "      <td>0.0</td>\n",
              "      <td>0.0</td>\n",
              "      <td>0.0</td>\n",
              "      <td>...</td>\n",
              "      <td>0.0</td>\n",
              "      <td>0.0</td>\n",
              "      <td>0.0</td>\n",
              "      <td>0.0</td>\n",
              "      <td>0.7</td>\n",
              "      <td>3.9</td>\n",
              "      <td>960</td>\n",
              "      <td>8</td>\n",
              "      <td>0.625625</td>\n",
              "      <td>False</td>\n",
              "    </tr>\n",
              "    <tr>\n",
              "      <th>1194</th>\n",
              "      <td>1.0</td>\n",
              "      <td>0.0</td>\n",
              "      <td>0.0</td>\n",
              "      <td>1.0</td>\n",
              "      <td>0.0</td>\n",
              "      <td>0.0</td>\n",
              "      <td>0.0</td>\n",
              "      <td>0.0</td>\n",
              "      <td>0.0</td>\n",
              "      <td>0.0</td>\n",
              "      <td>...</td>\n",
              "      <td>0.0</td>\n",
              "      <td>0.0</td>\n",
              "      <td>0.0</td>\n",
              "      <td>0.0</td>\n",
              "      <td>0.65</td>\n",
              "      <td>3.9</td>\n",
              "      <td>960</td>\n",
              "      <td>8</td>\n",
              "      <td>0.625625</td>\n",
              "      <td>False</td>\n",
              "    </tr>\n",
              "    <tr>\n",
              "      <th>1195</th>\n",
              "      <td>1.0</td>\n",
              "      <td>0.0</td>\n",
              "      <td>0.0</td>\n",
              "      <td>1.0</td>\n",
              "      <td>0.0</td>\n",
              "      <td>0.0</td>\n",
              "      <td>0.0</td>\n",
              "      <td>0.0</td>\n",
              "      <td>0.0</td>\n",
              "      <td>0.0</td>\n",
              "      <td>...</td>\n",
              "      <td>1.0</td>\n",
              "      <td>0.0</td>\n",
              "      <td>0.0</td>\n",
              "      <td>0.0</td>\n",
              "      <td>0.75</td>\n",
              "      <td>2.9</td>\n",
              "      <td>1800</td>\n",
              "      <td>15</td>\n",
              "      <td>0.505889</td>\n",
              "      <td>False</td>\n",
              "    </tr>\n",
              "    <tr>\n",
              "      <th>1196</th>\n",
              "      <td>1.0</td>\n",
              "      <td>0.0</td>\n",
              "      <td>0.0</td>\n",
              "      <td>1.0</td>\n",
              "      <td>0.0</td>\n",
              "      <td>0.0</td>\n",
              "      <td>0.0</td>\n",
              "      <td>0.0</td>\n",
              "      <td>0.0</td>\n",
              "      <td>0.0</td>\n",
              "      <td>...</td>\n",
              "      <td>0.0</td>\n",
              "      <td>0.0</td>\n",
              "      <td>0.0</td>\n",
              "      <td>0.0</td>\n",
              "      <td>0.7</td>\n",
              "      <td>2.9</td>\n",
              "      <td>720</td>\n",
              "      <td>6</td>\n",
              "      <td>0.394722</td>\n",
              "      <td>False</td>\n",
              "    </tr>\n",
              "  </tbody>\n",
              "</table>\n",
              "<p>1197 rows × 30 columns</p>\n",
              "</div>"
            ],
            "text/plain": [
              "     department_finishing department_sweing quarter_Quarter1 quarter_Quarter2  \\\n",
              "0                     0.0               1.0              1.0              0.0   \n",
              "1                     1.0               0.0              1.0              0.0   \n",
              "2                     0.0               1.0              1.0              0.0   \n",
              "3                     0.0               1.0              1.0              0.0   \n",
              "4                     0.0               1.0              1.0              0.0   \n",
              "...                   ...               ...              ...              ...   \n",
              "1192                  1.0               0.0              0.0              1.0   \n",
              "1193                  1.0               0.0              0.0              1.0   \n",
              "1194                  1.0               0.0              0.0              1.0   \n",
              "1195                  1.0               0.0              0.0              1.0   \n",
              "1196                  1.0               0.0              0.0              1.0   \n",
              "\n",
              "     quarter_Quarter3 quarter_Quarter4 day_Monday day_Saturday day_Sunday  \\\n",
              "0                 0.0              0.0        0.0          0.0        0.0   \n",
              "1                 0.0              0.0        0.0          0.0        0.0   \n",
              "2                 0.0              0.0        0.0          0.0        0.0   \n",
              "3                 0.0              0.0        0.0          0.0        0.0   \n",
              "4                 0.0              0.0        0.0          0.0        0.0   \n",
              "...               ...              ...        ...          ...        ...   \n",
              "1192              0.0              0.0        0.0          0.0        0.0   \n",
              "1193              0.0              0.0        0.0          0.0        0.0   \n",
              "1194              0.0              0.0        0.0          0.0        0.0   \n",
              "1195              0.0              0.0        0.0          0.0        0.0   \n",
              "1196              0.0              0.0        0.0          0.0        0.0   \n",
              "\n",
              "     day_Thursday  ... team_9 team_10 team_11 team_12 targeted_productivity  \\\n",
              "0             1.0  ...    0.0     0.0     0.0     0.0                   0.8   \n",
              "1             1.0  ...    0.0     0.0     0.0     0.0                  0.75   \n",
              "2             1.0  ...    0.0     0.0     1.0     0.0                   0.8   \n",
              "3             1.0  ...    0.0     0.0     0.0     1.0                   0.8   \n",
              "4             1.0  ...    0.0     0.0     0.0     0.0                   0.8   \n",
              "...           ...  ...    ...     ...     ...     ...                   ...   \n",
              "1192          0.0  ...    0.0     1.0     0.0     0.0                  0.75   \n",
              "1193          0.0  ...    0.0     0.0     0.0     0.0                   0.7   \n",
              "1194          0.0  ...    0.0     0.0     0.0     0.0                  0.65   \n",
              "1195          0.0  ...    1.0     0.0     0.0     0.0                  0.75   \n",
              "1196          0.0  ...    0.0     0.0     0.0     0.0                   0.7   \n",
              "\n",
              "        smv over_time no_of_workers actual_productivity productive  \n",
              "0     26.16      7080            59            0.940725       True  \n",
              "1      3.94       960             8              0.8865       True  \n",
              "2     11.41      3660            30             0.80057       True  \n",
              "3     11.41      3660            30             0.80057       True  \n",
              "4      25.9      1920            56            0.800382       True  \n",
              "...     ...       ...           ...                 ...        ...  \n",
              "1192    2.9       960             8            0.628333      False  \n",
              "1193    3.9       960             8            0.625625      False  \n",
              "1194    3.9       960             8            0.625625      False  \n",
              "1195    2.9      1800            15            0.505889      False  \n",
              "1196    2.9       720             6            0.394722      False  \n",
              "\n",
              "[1197 rows x 30 columns]"
            ]
          },
          "execution_count": 20,
          "metadata": {},
          "output_type": "execute_result"
        }
      ],
      "source": [
        "from sklearn.preprocessing import OneHotEncoder\n",
        "from sklearn.compose import make_column_transformer\n",
        "\n",
        "parent_col_trans = make_column_transformer((OneHotEncoder(), [\"department\", \"quarter\", \"day\", \"team\"]),\n",
        "                                          remainder = \"passthrough\", verbose_feature_names_out=False)\n",
        "one_hot_df = parent_col_trans.fit_transform(df)\n",
        "df = pd.DataFrame(one_hot_df, columns = parent_col_trans.get_feature_names_out())\n",
        "df"
      ]
    },
    {
      "cell_type": "markdown",
      "metadata": {
        "id": "yezOVTd2cr2k"
      },
      "source": [
        "# Building the Tree"
      ]
    },
    {
      "cell_type": "code",
      "execution_count": null,
      "metadata": {
        "id": "WvUT_e1Gcr2k"
      },
      "outputs": [],
      "source": [
        "for i in df.columns:\n",
        "    df[i] = pd.to_numeric(df[i])\n",
        "\n",
        ""
      ]
    },
    {
      "cell_type": "code",
      "execution_count": null,
      "metadata": {
        "id": "4PNpZ0QYcr2k",
        "outputId": "a5aa6120-d423-462f-d8b4-2e8d7add5fcb"
      },
      "outputs": [
        {
          "data": {
            "text/plain": [
              "array([ True,  True, False,  True, False,  True,  True,  True,  True,\n",
              "        True,  True,  True,  True,  True,  True,  True,  True,  True,\n",
              "        True,  True,  True,  True,  True,  True,  True,  True,  True,\n",
              "        True,  True, False,  True,  True,  True, False,  True,  True,\n",
              "       False,  True,  True,  True,  True,  True,  True,  True, False,\n",
              "        True,  True,  True,  True,  True, False,  True,  True,  True,\n",
              "       False,  True,  True,  True,  True,  True,  True,  True,  True,\n",
              "        True, False,  True,  True,  True,  True,  True,  True,  True,\n",
              "        True,  True,  True,  True,  True,  True,  True,  True, False,\n",
              "        True,  True,  True,  True,  True,  True,  True,  True, False,\n",
              "        True,  True,  True,  True,  True,  True,  True,  True,  True,\n",
              "       False,  True,  True,  True,  True, False,  True,  True,  True,\n",
              "        True,  True,  True, False,  True,  True,  True, False,  True,\n",
              "        True,  True, False,  True,  True,  True,  True,  True,  True,\n",
              "        True,  True,  True,  True,  True,  True,  True,  True, False,\n",
              "       False,  True,  True,  True,  True,  True,  True,  True,  True,\n",
              "        True,  True,  True,  True,  True,  True,  True,  True,  True,\n",
              "        True,  True,  True,  True, False,  True,  True,  True,  True,\n",
              "        True,  True,  True,  True,  True,  True,  True,  True,  True,\n",
              "        True,  True, False,  True,  True,  True,  True,  True,  True,\n",
              "        True,  True,  True,  True,  True, False,  True,  True, False,\n",
              "        True,  True,  True,  True,  True,  True,  True,  True,  True,\n",
              "        True,  True,  True,  True, False,  True,  True,  True, False,\n",
              "        True,  True,  True,  True,  True,  True,  True,  True, False,\n",
              "        True,  True,  True,  True,  True,  True,  True, False,  True,\n",
              "        True,  True,  True,  True,  True,  True,  True,  True,  True,\n",
              "        True,  True,  True,  True, False, False])"
            ]
          },
          "execution_count": 22,
          "metadata": {},
          "output_type": "execute_result"
        }
      ],
      "source": [
        "from sklearn.model_selection import train_test_split\n",
        "from sklearn.tree import DecisionTreeClassifier, plot_tree\n",
        "\n",
        "X = df.drop([\"actual_productivity\", \"productive\"], axis = 1)\n",
        "y = df[\"productive\"]\n",
        "\n",
        "X_train, X_test, y_train, y_test = train_test_split(X, y, test_size = 0.2, random_state = 47)\n",
        "\n",
        "model = DecisionTreeClassifier(max_depth = 3, random_state = 47)\n",
        "model.fit(X_train, y_train)\n",
        "\n",
        "y_pred = model.predict(X_test)\n",
        "y_pred"
      ]
    },
    {
      "cell_type": "markdown",
      "metadata": {
        "id": "dE-OazSJcr2l"
      },
      "source": [
        "# Visualizing and Evaluating the Tree"
      ]
    },
    {
      "cell_type": "code",
      "execution_count": null,
      "metadata": {
        "id": "EV5Cr2EYcr2l",
        "outputId": "31271ed3-085b-40a0-ccbe-150d3fef87c7"
      },
      "outputs": [
        {
          "data": {
            "image/png": "[encoded data removed]",
            "text/plain": [
              "<Figure size 2000x800 with 1 Axes>"
            ]
          },
          "metadata": {},
          "output_type": "display_data"
        }
      ],
      "source": [
        "plt.figure(figsize = [20.0, 8.0])\n",
        "_ = plot_tree(model,\n",
        "              feature_names = X.columns, class_names = [\"Unproductive\", \"Productive\"],\n",
        "              filled = True,\n",
        "              rounded = False,\n",
        "              proportion = False,\n",
        "              fontsize = 11)\n",
        "plt.show()"
      ]
    },
    {
      "cell_type": "code",
      "execution_count": null,
      "metadata": {
        "id": "nrRqkGdMcr2l",
        "outputId": "dfc003dd-0802-4d2d-907a-457596ffad46"
      },
      "outputs": [
        {
          "data": {
            "text/plain": [
              "0.8083333333333333"
            ]
          },
          "execution_count": 24,
          "metadata": {},
          "output_type": "execute_result"
        }
      ],
      "source": [
        "from sklearn.metrics import accuracy_score, confusion_matrix, classification_report\n",
        "accuracy = accuracy_score(y_test, y_pred)\n",
        "accuracy"
      ]
    },
    {
      "cell_type": "code",
      "execution_count": null,
      "metadata": {
        "id": "Rx1MCetbcr2m",
        "outputId": "54b3d8b1-dc14-4556-9555-3ed42793f3dd"
      },
      "outputs": [
        {
          "data": {
            "text/plain": [
              "array([[ 23,  41],\n",
              "       [  5, 171]])"
            ]
          },
          "execution_count": 25,
          "metadata": {},
          "output_type": "execute_result"
        }
      ],
      "source": [
        "confusion_matrix(y_test, y_pred)"
      ]
    },
    {
      "cell_type": "code",
      "execution_count": null,
      "metadata": {
        "id": "Re0Blbx6cr2n",
        "outputId": "f97201d5-28da-4b5b-a706-1b41cb57817d"
      },
      "outputs": [
        {
          "name": "stdout",
          "output_type": "stream",
          "text": [
            "              precision    recall  f1-score   support\n",
            "\n",
            "       False       0.82      0.36      0.50        64\n",
            "        True       0.81      0.97      0.88       176\n",
            "\n",
            "    accuracy                           0.81       240\n",
            "   macro avg       0.81      0.67      0.69       240\n",
            "weighted avg       0.81      0.81      0.78       240\n",
            "\n"
          ]
        }
      ],
      "source": [
        "print(classification_report(y_test, y_pred))"
      ]
    },
    {
      "cell_type": "markdown",
      "metadata": {
        "id": "lPzYjF6hcr2n"
      },
      "source": [
        "# Cross Validation"
      ]
    },
    {
      "cell_type": "code",
      "execution_count": null,
      "metadata": {
        "id": "vq22OxvEcr2n"
      },
      "outputs": [],
      "source": [
        "from sklearn.model_selection import cross_validate\n",
        "\n",
        "X = df.drop([\"actual_productivity\", \"productive\"], axis = 1)\n",
        "y = df[\"productive\"]\n",
        "\n",
        "tree = DecisionTreeClassifier(max_depth = 3, random_state = 47)\n",
        "tree_c1 = cross_validate(tree, X, y, cv = 5,  scoring= (\"precision\", \"recall\", \"f1\") )"
      ]
    },
    {
      "cell_type": "code",
      "execution_count": null,
      "metadata": {
        "id": "TeGnLRmUcr2o",
        "outputId": "c2fd4067-833e-4fa3-8feb-8e8333d0dd34"
      },
      "outputs": [
        {
          "data": {
            "text/plain": [
              "0.7923950387765524"
            ]
          },
          "execution_count": 28,
          "metadata": {},
          "output_type": "execute_result"
        }
      ],
      "source": [
        "tree_c1[\"test_precision\"].mean()"
      ]
    },
    {
      "cell_type": "code",
      "execution_count": null,
      "metadata": {
        "id": "TLBmmzYIcr2o",
        "outputId": "82caa138-b071-43a8-faa2-b54f88a4a164"
      },
      "outputs": [
        {
          "data": {
            "text/plain": [
              "0.9668571428571429"
            ]
          },
          "execution_count": 29,
          "metadata": {},
          "output_type": "execute_result"
        }
      ],
      "source": [
        "tree_c1[\"test_recall\"].mean()"
      ]
    },
    {
      "cell_type": "code",
      "execution_count": null,
      "metadata": {
        "id": "nWjGUr2Ocr2o",
        "outputId": "a63e4005-018f-4983-cb32-73d8a282067d"
      },
      "outputs": [
        {
          "data": {
            "text/plain": [
              "0.8701961448628115"
            ]
          },
          "execution_count": 30,
          "metadata": {},
          "output_type": "execute_result"
        }
      ],
      "source": [
        "tree_c1[\"test_f1\"].mean()"
      ]
    },
    {
      "cell_type": "markdown",
      "metadata": {
        "id": "35WyyWAIcr2p"
      },
      "source": [
        "# Using Random Forest"
      ]
    },
    {
      "cell_type": "code",
      "execution_count": null,
      "metadata": {
        "id": "VaVDrx2icr2p",
        "outputId": "ad1e21a8-4eec-4467-e1b8-fb6d3b8b3f6e"
      },
      "outputs": [
        {
          "data": {
            "text/plain": [
              "0.7719298245614035"
            ]
          },
          "execution_count": 31,
          "metadata": {},
          "output_type": "execute_result"
        }
      ],
      "source": [
        "from sklearn.ensemble import RandomForestClassifier\n",
        "X = df.drop([\"actual_productivity\", \"productive\"], axis = 1)\n",
        "y = df[\"productive\"]\n",
        "rf = RandomForestClassifier(oob_score = True,\n",
        "                                random_state = 24, n_jobs = -1, max_depth = 3, n_estimators = 20)\n",
        "rf.fit(X, y)\n",
        "\n",
        "y_pred_rf = rf.oob_decision_function_\n",
        "y_accuracy = rf.oob_score_\n",
        "y_accuracy"
      ]
    },
    {
      "cell_type": "markdown",
      "metadata": {
        "id": "l7nMUlbwcr2p"
      },
      "source": [
        "# GridSearchCV"
      ]
    },
    {
      "cell_type": "code",
      "execution_count": null,
      "metadata": {
        "id": "GRezFnllcr2q"
      },
      "outputs": [],
      "source": [
        "df_class = df.copy()\n",
        "df_class.drop(\"productive\", axis = 1, inplace = True)\n",
        "\n",
        "df_class[\"productive\"] = pd.Series(dtype = \"object\")\n",
        "df_class[\"productive\"].mask(df_class[\"actual_productivity\"] <= 0.2, \"Very Insufficient\", inplace = True)\n",
        "df_class[\"productive\"].mask((df_class[\"actual_productivity\"] > 0.2) & (df_class[\"actual_productivity\"] <= 0.4),\n",
        "                            \"Insufficient\", inplace = True)\n",
        "df_class[\"productive\"].mask((df_class[\"actual_productivity\"] > 0.4) & (df_class[\"actual_productivity\"] <= 0.6),\n",
        "                           \"Satisfactory\", inplace = True)\n",
        "df_class[\"productive\"].mask((df_class[\"actual_productivity\"] > 0.6) & (df_class[\"actual_productivity\"] <= 0.8),\n",
        "                           \"Very Satisfactory\", inplace = True)\n",
        "df_class[\"productive\"].mask((df_class[\"actual_productivity\"] > 0.8), \"Perfect\", inplace = True)"
      ]
    },
    {
      "cell_type": "code",
      "execution_count": null,
      "metadata": {
        "id": "YHdydcdMcr2q",
        "outputId": "6fb686bf-01eb-4dbc-fc5b-87094c60c344"
      },
      "outputs": [
        {
          "data": {
            "text/plain": [
              "0.6774825662482566"
            ]
          },
          "execution_count": 33,
          "metadata": {},
          "output_type": "execute_result"
        }
      ],
      "source": [
        "from sklearn.model_selection import GridSearchCV\n",
        "\n",
        "X = df_class.drop([\"actual_productivity\",\"productive\"], axis = 1 )\n",
        "y = df_class[\"productive\"]\n",
        "\n",
        "paramters = {\n",
        "    \"criterion\": [\"gini\"],\n",
        "    \"max_depth\": list(range(1, 10))\n",
        "}\n",
        "\n",
        "model = DecisionTreeClassifier(random_state = 24)\n",
        "grid = GridSearchCV(model, param_grid = paramters)\n",
        "\n",
        "grid.fit(X, y)\n",
        "\n",
        "grid.best_score_"
      ]
    },
    {
      "cell_type": "code",
      "execution_count": null,
      "metadata": {
        "id": "gryhpnm1cr2q",
        "outputId": "8af658a1-5084-4293-ac8e-33587c058c0e"
      },
      "outputs": [
        {
          "data": {
            "text/plain": [
              "{'criterion': 'gini', 'max_depth': 4}"
            ]
          },
          "execution_count": 34,
          "metadata": {},
          "output_type": "execute_result"
        }
      ],
      "source": [
        "grid.best_params_"
      ]
    },
    {
      "cell_type": "markdown",
      "metadata": {
        "id": "FEUMEcwWcr2r"
      },
      "source": [
        "# Random forest"
      ]
    },
    {
      "cell_type": "code",
      "execution_count": null,
      "metadata": {
        "id": "68k3Mrphcr2s",
        "outputId": "19252a92-6fc3-42a5-b8ef-1317864328d4"
      },
      "outputs": [
        {
          "data": {
            "text/plain": [
              "0.6532999164578112"
            ]
          },
          "execution_count": 36,
          "metadata": {},
          "output_type": "execute_result"
        }
      ],
      "source": [
        "random_class = RandomForestClassifier(n_estimators=20, max_depth = 3, random_state = 24,\n",
        "                                     oob_score= True)\n",
        "random_class.fit(X, y)\n",
        "random_class.oob_score_"
      ]
    },
    {
      "cell_type": "code",
      "execution_count": null,
      "metadata": {
        "id": "0dGVyfZtcr2t",
        "outputId": "502ca576-e23b-4f5f-a3a9-a21a9652f050"
      },
      "outputs": [
        {
          "data": {
            "text/html": [
              "<div>\n",
              "<style scoped>\n",
              "    .dataframe tbody tr th:only-of-type {\n",
              "        vertical-align: middle;\n",
              "    }\n",
              "\n",
              "    .dataframe tbody tr th {\n",
              "        vertical-align: top;\n",
              "    }\n",
              "\n",
              "    .dataframe thead th {\n",
              "        text-align: right;\n",
              "    }\n",
              "</style>\n",
              "<table border=\"1\" class=\"dataframe\">\n",
              "  <thead>\n",
              "    <tr style=\"text-align: right;\">\n",
              "      <th></th>\n",
              "      <th>Insufficient</th>\n",
              "      <th>Perfect</th>\n",
              "      <th>Satisfactory</th>\n",
              "      <th>Very Satisfactory</th>\n",
              "      <th>y_pred</th>\n",
              "      <th>y_test</th>\n",
              "    </tr>\n",
              "  </thead>\n",
              "  <tbody>\n",
              "    <tr>\n",
              "      <th>0</th>\n",
              "      <td>0.046102</td>\n",
              "      <td>0.536749</td>\n",
              "      <td>0.093375</td>\n",
              "      <td>0.323774</td>\n",
              "      <td>Perfect</td>\n",
              "      <td>Perfect</td>\n",
              "    </tr>\n",
              "    <tr>\n",
              "      <th>1</th>\n",
              "      <td>0.099203</td>\n",
              "      <td>0.388826</td>\n",
              "      <td>0.177377</td>\n",
              "      <td>0.334594</td>\n",
              "      <td>Perfect</td>\n",
              "      <td>Perfect</td>\n",
              "    </tr>\n",
              "    <tr>\n",
              "      <th>2</th>\n",
              "      <td>0.022045</td>\n",
              "      <td>0.700555</td>\n",
              "      <td>0.055512</td>\n",
              "      <td>0.221887</td>\n",
              "      <td>Perfect</td>\n",
              "      <td>Perfect</td>\n",
              "    </tr>\n",
              "    <tr>\n",
              "      <th>3</th>\n",
              "      <td>0.031035</td>\n",
              "      <td>0.699404</td>\n",
              "      <td>0.052651</td>\n",
              "      <td>0.216910</td>\n",
              "      <td>Perfect</td>\n",
              "      <td>Perfect</td>\n",
              "    </tr>\n",
              "    <tr>\n",
              "      <th>4</th>\n",
              "      <td>0.050298</td>\n",
              "      <td>0.573125</td>\n",
              "      <td>0.084075</td>\n",
              "      <td>0.292501</td>\n",
              "      <td>Perfect</td>\n",
              "      <td>Perfect</td>\n",
              "    </tr>\n",
              "    <tr>\n",
              "      <th>...</th>\n",
              "      <td>...</td>\n",
              "      <td>...</td>\n",
              "      <td>...</td>\n",
              "      <td>...</td>\n",
              "      <td>...</td>\n",
              "      <td>...</td>\n",
              "    </tr>\n",
              "    <tr>\n",
              "      <th>1192</th>\n",
              "      <td>0.091169</td>\n",
              "      <td>0.472426</td>\n",
              "      <td>0.138883</td>\n",
              "      <td>0.297523</td>\n",
              "      <td>Perfect</td>\n",
              "      <td>Very Satisfactory</td>\n",
              "    </tr>\n",
              "    <tr>\n",
              "      <th>1193</th>\n",
              "      <td>0.095621</td>\n",
              "      <td>0.398139</td>\n",
              "      <td>0.168890</td>\n",
              "      <td>0.337351</td>\n",
              "      <td>Perfect</td>\n",
              "      <td>Very Satisfactory</td>\n",
              "    </tr>\n",
              "    <tr>\n",
              "      <th>1194</th>\n",
              "      <td>0.113656</td>\n",
              "      <td>0.383241</td>\n",
              "      <td>0.172812</td>\n",
              "      <td>0.330291</td>\n",
              "      <td>Perfect</td>\n",
              "      <td>Very Satisfactory</td>\n",
              "    </tr>\n",
              "    <tr>\n",
              "      <th>1195</th>\n",
              "      <td>0.071914</td>\n",
              "      <td>0.511770</td>\n",
              "      <td>0.112903</td>\n",
              "      <td>0.303413</td>\n",
              "      <td>Perfect</td>\n",
              "      <td>Satisfactory</td>\n",
              "    </tr>\n",
              "    <tr>\n",
              "      <th>1196</th>\n",
              "      <td>0.078027</td>\n",
              "      <td>0.440558</td>\n",
              "      <td>0.159151</td>\n",
              "      <td>0.322263</td>\n",
              "      <td>Perfect</td>\n",
              "      <td>Insufficient</td>\n",
              "    </tr>\n",
              "  </tbody>\n",
              "</table>\n",
              "<p>1197 rows × 6 columns</p>\n",
              "</div>"
            ],
            "text/plain": [
              "      Insufficient   Perfect  Satisfactory  Very Satisfactory   y_pred  \\\n",
              "0         0.046102  0.536749      0.093375           0.323774  Perfect   \n",
              "1         0.099203  0.388826      0.177377           0.334594  Perfect   \n",
              "2         0.022045  0.700555      0.055512           0.221887  Perfect   \n",
              "3         0.031035  0.699404      0.052651           0.216910  Perfect   \n",
              "4         0.050298  0.573125      0.084075           0.292501  Perfect   \n",
              "...            ...       ...           ...                ...      ...   \n",
              "1192      0.091169  0.472426      0.138883           0.297523  Perfect   \n",
              "1193      0.095621  0.398139      0.168890           0.337351  Perfect   \n",
              "1194      0.113656  0.383241      0.172812           0.330291  Perfect   \n",
              "1195      0.071914  0.511770      0.112903           0.303413  Perfect   \n",
              "1196      0.078027  0.440558      0.159151           0.322263  Perfect   \n",
              "\n",
              "                 y_test  \n",
              "0               Perfect  \n",
              "1               Perfect  \n",
              "2               Perfect  \n",
              "3               Perfect  \n",
              "4               Perfect  \n",
              "...                 ...  \n",
              "1192  Very Satisfactory  \n",
              "1193  Very Satisfactory  \n",
              "1194  Very Satisfactory  \n",
              "1195       Satisfactory  \n",
              "1196       Insufficient  \n",
              "\n",
              "[1197 rows x 6 columns]"
            ]
          },
          "execution_count": 40,
          "metadata": {},
          "output_type": "execute_result"
        }
      ],
      "source": [
        "df1 = pd.DataFrame(random_class.oob_decision_function_, columns = random_class.classes_)\n",
        "df1[\"y_pred\"] = df1.idxmax(axis = 1)\n",
        "df1[\"y_test\"] = y\n",
        "df1"
      ]
    },
    {
      "cell_type": "code",
      "execution_count": null,
      "metadata": {
        "id": "DZQT4wHFcr2t"
      },
      "outputs": [],
      "source": []
    },
    {
      "cell_type": "code",
      "execution_count": null,
      "metadata": {
        "id": "2VsuO2L4cr2u"
      },
      "outputs": [],
      "source": []
    }
  ],
  "metadata": {
    "kernelspec": {
      "display_name": "Python 3 (ipykernel)",
      "language": "python",
      "name": "python3"
    },
    "language_info": {
      "codemirror_mode": {
        "name": "ipython",
        "version": 3
      },
      "file_extension": ".py",
      "mimetype": "text/x-python",
      "name": "python",
      "nbconvert_exporter": "python",
      "pygments_lexer": "ipython3",
      "version": "3.10.6"
    },
    "colab": {
      "provenance": []
    }
  },
  "nbformat": 4,
  "nbformat_minor": 0
}